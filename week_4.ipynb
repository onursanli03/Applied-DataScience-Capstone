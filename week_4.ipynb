{
 "cells": [
  {
   "cell_type": "markdown",
   "metadata": {},
   "source": [
    "# Introduction"
   ]
  },
  {
   "cell_type": "markdown",
   "metadata": {},
   "source": [
    "    X is a software company and their customer company Y is based in New York organizing event. Company X and Y deal with a project and currently work on a this project to organize an event for 5 days for a group of developers from all over the world.\n",
    "    Company Y has determine to a program including, hotels, hall of meetings, places for visiting, places for shopping, restaurants, cafes etc.\n",
    "    Company Y has to show the list of places in New York to attendees, including cafes, restaurants, hall of meetings, hotels etc. It has provide a map in case attendee can't use here mobile application for any reason."
   ]
  }
 ],
 "metadata": {
  "kernelspec": {
   "display_name": "Python 3",
   "language": "python",
   "name": "python3"
  },
  "language_info": {
   "codemirror_mode": {
    "name": "ipython",
    "version": 3
   },
   "file_extension": ".py",
   "mimetype": "text/x-python",
   "name": "python",
   "nbconvert_exporter": "python",
   "pygments_lexer": "ipython3",
   "version": "3.7.3"
  }
 },
 "nbformat": 4,
 "nbformat_minor": 2
}
